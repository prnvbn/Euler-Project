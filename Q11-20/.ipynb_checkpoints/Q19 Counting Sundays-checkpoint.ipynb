{
 "cells": [
  {
   "cell_type": "code",
   "execution_count": 1,
   "metadata": {},
   "outputs": [],
   "source": [
    "# You are given the following information, but you may prefer to do some research for yourself.\n",
    "\n",
    "# 1 Jan 1900 was a Monday.\n",
    "# Thirty days has September,\n",
    "# April, June and November.\n",
    "# All the rest have thirty-one,\n",
    "# Saving February alone,\n",
    "# Which has twenty-eight, rain or shine.\n",
    "# And on leap years, twenty-nine.\n",
    "# A leap year occurs on any year evenly divisible by 4, but not on a century unless it is divisible by 400.\n",
    "\n",
    "# How many Sundays fell on the first of the month during the twentieth century (1 Jan 1901 to 31 Dec 2000)?"
   ]
  },
  {
   "cell_type": "code",
   "execution_count": 5,
   "metadata": {},
   "outputs": [],
   "source": [
    "months = [31, 28 , 31, 30, 31, 30, 31, 31, 30, 31, 30, 31]"
   ]
  },
  {
   "cell_type": "code",
   "execution_count": 10,
   "metadata": {},
   "outputs": [],
   "source": [
    "def counting_sundays():\n",
    "    day = 1\n",
    "    sundays = 1\n",
    "\n",
    "    for year in range(1901,2001):\n",
    "        for month in months:\n",
    "            day = day + month\n",
    "            if year % 4 == 0 and month == 28:\n",
    "                day = day + 1\n",
    "            if day % 7 == 1:\n",
    "                sundays = sundays + 1\n",
    "    return sundays"
   ]
  },
  {
   "cell_type": "code",
   "execution_count": 11,
   "metadata": {},
   "outputs": [
    {
     "data": {
      "text/plain": [
       "171"
      ]
     },
     "execution_count": 11,
     "metadata": {},
     "output_type": "execute_result"
    }
   ],
   "source": [
    "counting_sundays()"
   ]
  }
 ],
 "metadata": {
  "kernelspec": {
   "display_name": "Python 3",
   "language": "python",
   "name": "python3"
  },
  "language_info": {
   "codemirror_mode": {
    "name": "ipython",
    "version": 3
   },
   "file_extension": ".py",
   "mimetype": "text/x-python",
   "name": "python",
   "nbconvert_exporter": "python",
   "pygments_lexer": "ipython3",
   "version": "3.6.9"
  }
 },
 "nbformat": 4,
 "nbformat_minor": 2
}
