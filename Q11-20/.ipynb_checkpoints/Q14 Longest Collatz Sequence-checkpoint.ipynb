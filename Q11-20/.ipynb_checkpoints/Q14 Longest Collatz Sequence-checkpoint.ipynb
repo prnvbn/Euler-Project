{
 "cells": [
  {
   "cell_type": "code",
   "execution_count": 1,
   "metadata": {},
   "outputs": [],
   "source": [
    "# The following iterative sequence is defined for the set of positive integers:\n",
    "\n",
    "# n → n/2 (n is even)\n",
    "# n → 3n + 1 (n is odd)\n",
    "\n",
    "# Using the rule above and starting with 13, we generate the following sequence:\n",
    "\n",
    "# 13 → 40 → 20 → 10 → 5 → 16 → 8 → 4 → 2 → 1\n",
    "# It can be seen that this sequence (starting at 13 and finishing at 1) contains 10 terms. \n",
    "# Although it has not been proved yet (Collatz Problem), it is thought that all starting numbers finish at 1.\n",
    "\n",
    "# Which starting number, under one million, produces the longest chain?\n",
    "\n",
    "# NOTE: Once the chain starts the terms are allowed to go above one million."
   ]
  },
  {
   "cell_type": "code",
   "execution_count": 25,
   "metadata": {},
   "outputs": [],
   "source": [
    "def count_collatz_chain(n):\n",
    "    count = 1\n",
    "    while n != 1:\n",
    "        if(n%2 == 0):\n",
    "            n = n//2\n",
    "        else:\n",
    "            n = 3*n + 1\n",
    "        count = count +1\n",
    "    return count    "
   ]
  },
  {
   "cell_type": "code",
   "execution_count": 26,
   "metadata": {},
   "outputs": [
    {
     "data": {
      "text/plain": [
       "10"
      ]
     },
     "execution_count": 26,
     "metadata": {},
     "output_type": "execute_result"
    }
   ],
   "source": [
    "count_collatz_chain(13)"
   ]
  },
  {
   "cell_type": "code",
   "execution_count": 40,
   "metadata": {},
   "outputs": [],
   "source": [
    "def get_max_collatz_chain(n):\n",
    "#     no = 0\n",
    "#     length = 0\n",
    "#     for i in range(0,n):\n",
    "#         curr_length = count_collatz_chain(i)\n",
    "#         if(curr_length > length):\n",
    "#             no = i\n",
    "#             length = curr_length \n",
    "#     return no, length           \n",
    "    \n",
    "    return max(list(map(lambda i: (count_collatz_chain(i),i), range(1, n))))[1]\n"
   ]
  },
  {
   "cell_type": "code",
   "execution_count": 41,
   "metadata": {},
   "outputs": [
    {
     "data": {
      "text/plain": [
       "837799"
      ]
     },
     "execution_count": 41,
     "metadata": {},
     "output_type": "execute_result"
    }
   ],
   "source": [
    "get_max_collatz_chain(1_000_000)"
   ]
  },
  {
   "cell_type": "code",
   "execution_count": null,
   "metadata": {},
   "outputs": [],
   "source": []
  }
 ],
 "metadata": {
  "kernelspec": {
   "display_name": "Python 3",
   "language": "python",
   "name": "python3"
  },
  "language_info": {
   "codemirror_mode": {
    "name": "ipython",
    "version": 3
   },
   "file_extension": ".py",
   "mimetype": "text/x-python",
   "name": "python",
   "nbconvert_exporter": "python",
   "pygments_lexer": "ipython3",
   "version": "3.6.9"
  }
 },
 "nbformat": 4,
 "nbformat_minor": 2
}
