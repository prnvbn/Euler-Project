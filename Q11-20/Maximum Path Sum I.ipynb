{
 "cells": [
  {
   "cell_type": "code",
   "execution_count": 79,
   "metadata": {},
   "outputs": [],
   "source": [
    "# By starting at the top of the triangle below and moving to adjacent numbers on the row below, \n",
    "# the maximum total from top to bottom is 23.\n",
    "\n",
    "tri = \"\\\n",
    "3\\n\\\n",
    "7 4\\n\\\n",
    "2 4 6\\n\\\n",
    "8 5 9 3\\\n",
    "\"\n",
    "# That is, 3 + 7 + 4 + 9 = 23.\n",
    "\n",
    "# Find the maximum total from top to bottom of the triangle below:\n",
    "  \n",
    "#                               75\n",
    "#                             95  64\n",
    "#                           17  47  82\n",
    "#                         18  35  87  10\n",
    "#                       20  04  82  47  65\n",
    "#                     19  01  23  75  03  34\n",
    "#                   88  02  77  73  07  63  67\n",
    "#                 99  65  04  28  06  16  70  92\n",
    "#               41  41  26  56  83  40  80  70  33\n",
    "#             41  48  72  33  47  32  37  16  94 29\n",
    "#           53  71  44  65  25  43  91  52  97  51  14\n",
    "#         70  11  33  28  77  73  17  78  39  68  17  57\n",
    "#       91  71  52  38  17  14  91  43  58  50  27  29  48\n",
    "#     63  66  04  68  89  53  67  30  73  16  69  87  40  31\n",
    "#   04  62  98  27  23  09  70  98  73  93  38  53  60  04  23\n",
    "\n",
    "# NOTE: As there are only 16384 routes, it is possible to solve this problem by trying every route. \n",
    "# However, Problem 67, is the same challenge with a triangle containing one-hundred rows; \n",
    "# it cannot be solved by brute force, and requires a clever method! ;o)"
   ]
  },
  {
   "cell_type": "code",
   "execution_count": 80,
   "metadata": {},
   "outputs": [],
   "source": [
    "# To prevent brute forcing our way we will treat this triangle like a weighted tree\n",
    "# the arcs wiil have the sum of the nodes"
   ]
  },
  {
   "cell_type": "code",
   "execution_count": 92,
   "metadata": {},
   "outputs": [],
   "source": [
    "def max_path_sum(tri):\n",
    "    ts = tri.split('\\n')\n",
    "    ts = list(map(lambda t: t.split(),ts))\n",
    "    ts = list(map(lambda t: list(map(int, t)), ts))\n",
    "    \n",
    "    layers = [[ts[0][0] + ts[1][0], ts[0][0] + ts[1][1]]]\n",
    "    for t in ts[2:]:\n",
    "        layers.append(t)\n",
    "    return layers    "
   ]
  },
  {
   "cell_type": "code",
   "execution_count": 93,
   "metadata": {},
   "outputs": [
    {
     "data": {
      "text/plain": [
       "[[10, 7], [2, 4, 6], [8, 5, 9, 3]]"
      ]
     },
     "execution_count": 93,
     "metadata": {},
     "output_type": "execute_result"
    }
   ],
   "source": [
    "max_path_sum(tri)"
   ]
  },
  {
   "cell_type": "code",
   "execution_count": 74,
   "metadata": {},
   "outputs": [
    {
     "data": {
      "text/plain": [
       "[[3], [7, 4], [2, 4, 6], [8, 5, 9, 3]]"
      ]
     },
     "execution_count": 74,
     "metadata": {},
     "output_type": "execute_result"
    }
   ],
   "source": [
    "ts = tri.split('\\n')\n",
    "ts = list(map(lambda t: t.split(),ts))\n",
    "ts = list(map(lambda t: list(map(int, t)), ts))\n",
    "ts"
   ]
  },
  {
   "cell_type": "code",
   "execution_count": 75,
   "metadata": {},
   "outputs": [
    {
     "data": {
      "text/plain": [
       "[[10, 7], [2, 4, 6], [8, 5, 9, 3]]"
      ]
     },
     "execution_count": 75,
     "metadata": {},
     "output_type": "execute_result"
    }
   ],
   "source": [
    "\n",
    "# ts[0] = [ts[0][0] + ts[1][0], ts[0][0] + ts[1][1]]\n",
    "\n",
    "layers = [[ts[0][0] + ts[1][0], ts[0][0] + ts[1][1]]]\n",
    "for t in ts[2:]:\n",
    "    layers.append(t)\n",
    "\n",
    "layers    "
   ]
  },
  {
   "cell_type": "code",
   "execution_count": 61,
   "metadata": {},
   "outputs": [
    {
     "data": {
      "text/plain": [
       "[[10, 7], [10, 7], [9, 11, 8, 10], [10, 7, 9, 13, 15, 9]]"
      ]
     },
     "execution_count": 61,
     "metadata": {},
     "output_type": "execute_result"
    }
   ],
   "source": [
    "layers"
   ]
  },
  {
   "cell_type": "code",
   "execution_count": null,
   "metadata": {},
   "outputs": [],
   "source": [
    "\n",
    "        "
   ]
  }
 ],
 "metadata": {
  "kernelspec": {
   "display_name": "Python 3",
   "language": "python",
   "name": "python3"
  },
  "language_info": {
   "codemirror_mode": {
    "name": "ipython",
    "version": 3
   },
   "file_extension": ".py",
   "mimetype": "text/x-python",
   "name": "python",
   "nbconvert_exporter": "python",
   "pygments_lexer": "ipython3",
   "version": "3.6.9"
  }
 },
 "nbformat": 4,
 "nbformat_minor": 2
}
