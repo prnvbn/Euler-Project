{
 "cells": [
  {
   "cell_type": "code",
   "execution_count": 1,
   "metadata": {},
   "outputs": [],
   "source": [
    "# The sum of the primes below 10 is 2 + 3 + 5 + 7 = 17.\n",
    "\n",
    "# Find the sum of all the primes below two million."
   ]
  },
  {
   "cell_type": "code",
   "execution_count": 1,
   "metadata": {},
   "outputs": [],
   "source": [
    "import numpy as np\n",
    "\n",
    "def sum_of_primes(n):\n",
    "    prime_bool = [True for i in range(n+1)]\n",
    "    \n",
    "    prime_bool[0] = False\n",
    "    prime_bool[1] = False\n",
    "    \n",
    "    p = 2 # first prime no\n",
    "    \n",
    "    while p*p < n: # because if n is composite, then its highest factor is n^(1/2)\n",
    "        if (prime_bool[p]):\n",
    "            for i in range(p*p, n+1, p):\n",
    "                prime_bool[i] = False\n",
    "        p = p+1\n",
    "        \n",
    "    s = 0  \n",
    "    for i in range(n+1):\n",
    "        if(prime_bool[i]):\n",
    "            s = s + i\n",
    "    \n",
    "    return s"
   ]
  },
  {
   "cell_type": "code",
   "execution_count": 2,
   "metadata": {},
   "outputs": [
    {
     "data": {
      "text/plain": [
       "17"
      ]
     },
     "execution_count": 2,
     "metadata": {},
     "output_type": "execute_result"
    }
   ],
   "source": [
    "sum_of_primes(10)"
   ]
  },
  {
   "cell_type": "code",
   "execution_count": 3,
   "metadata": {},
   "outputs": [
    {
     "data": {
      "text/plain": [
       "142913828922"
      ]
     },
     "execution_count": 3,
     "metadata": {},
     "output_type": "execute_result"
    }
   ],
   "source": [
    "sum_of_primes(2_000_000)"
   ]
  },
  {
   "cell_type": "code",
   "execution_count": null,
   "metadata": {},
   "outputs": [],
   "source": []
  }
 ],
 "metadata": {
  "kernelspec": {
   "display_name": "Python 3",
   "language": "python",
   "name": "python3"
  },
  "language_info": {
   "codemirror_mode": {
    "name": "ipython",
    "version": 3
   },
   "file_extension": ".py",
   "mimetype": "text/x-python",
   "name": "python",
   "nbconvert_exporter": "python",
   "pygments_lexer": "ipython3",
   "version": "3.6.9"
  }
 },
 "nbformat": 4,
 "nbformat_minor": 2
}
