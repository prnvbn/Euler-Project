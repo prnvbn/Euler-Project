{
 "cells": [
  {
   "cell_type": "code",
   "execution_count": 1,
   "metadata": {},
   "outputs": [],
   "source": [
    "# A Pythagorean triplet is a set of three natural numbers, a < b < c, for which,\n",
    "\n",
    "# a^2 + b^2 = c^2\n",
    "# For example, 3^2 + 4^2 = 9 + 16 = 25 = 5^2.\n",
    "\n",
    "# There exists exactly one Pythagorean triplet for which a + b + c = 1000.\n",
    "# Find the product abc."
   ]
  },
  {
   "cell_type": "code",
   "execution_count": 4,
   "metadata": {},
   "outputs": [],
   "source": [
    "# a + b + c = 1000 has only (1000-1)C(3-1) = 498_501 possibilities \n",
    "# this is further shortened by the constraint a < b < c"
   ]
  },
  {
   "cell_type": "code",
   "execution_count": 2,
   "metadata": {},
   "outputs": [
    {
     "name": "stdout",
     "output_type": "stream",
     "text": [
      "200 375 425 31875000\n"
     ]
    }
   ],
   "source": [
    "sum = 1000;\n",
    "\n",
    "for a in range(1,sum//3 + 1):\n",
    "    for b in range(a+1,sum//2 + 1):\n",
    "        c = sum - a - b\n",
    "        if(a **2 + b**2 == c**2):\n",
    "            print(a, b, c, a*b*c)\n",
    " \n"
   ]
  }
 ],
 "metadata": {
  "kernelspec": {
   "display_name": "Python 3",
   "language": "python",
   "name": "python3"
  },
  "language_info": {
   "codemirror_mode": {
    "name": "ipython",
    "version": 3
   },
   "file_extension": ".py",
   "mimetype": "text/x-python",
   "name": "python",
   "nbconvert_exporter": "python",
   "pygments_lexer": "ipython3",
   "version": "3.6.9"
  }
 },
 "nbformat": 4,
 "nbformat_minor": 2
}
