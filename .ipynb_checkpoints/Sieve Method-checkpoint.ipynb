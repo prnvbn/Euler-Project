{
 "cells": [
  {
   "cell_type": "code",
   "execution_count": 51,
   "metadata": {},
   "outputs": [],
   "source": [
    "# sieve method"
   ]
  },
  {
   "cell_type": "code",
   "execution_count": 60,
   "metadata": {},
   "outputs": [],
   "source": [
    "import numpy as np\n",
    "\n",
    "def get_primes_sieve(n):\n",
    "    prime_bool = [True for i in range(n+1)]\n",
    "    prime_bool[0] = False\n",
    "    prime_bool[1] = False\n",
    "    \n",
    "    p = 2 # first prime no\n",
    "    \n",
    "    while p < np.sqrt(n): # because if n is composite, then its highest factor is n^(1/2)\n",
    "        if (prime_bool[p]):\n",
    "            for i in range(p*p, n+1, p):\n",
    "                if(i == 983):\n",
    "                    print(i)\n",
    "                \n",
    "                prime_bool[i] = False\n",
    "        p = p+1\n",
    "    primes = []    \n",
    "    for i in range(n+1):\n",
    "        if(prime_bool[i]):\n",
    "            primes.append(i)\n",
    "            \n",
    "    return primes"
   ]
  },
  {
   "cell_type": "code",
   "execution_count": 61,
   "metadata": {},
   "outputs": [
    {
     "data": {
      "text/plain": [
       "[2, 3, 5, 7]"
      ]
     },
     "execution_count": 61,
     "metadata": {},
     "output_type": "execute_result"
    }
   ],
   "source": [
    "get_primes_sieve(10)"
   ]
  },
  {
   "cell_type": "code",
   "execution_count": 62,
   "metadata": {},
   "outputs": [
    {
     "data": {
      "text/plain": [
       "[2, 3, 5, 7, 11, 13, 17, 19, 23, 29]"
      ]
     },
     "execution_count": 62,
     "metadata": {},
     "output_type": "execute_result"
    }
   ],
   "source": [
    "get_primes_sieve(30)"
   ]
  },
  {
   "cell_type": "code",
   "execution_count": null,
   "metadata": {},
   "outputs": [],
   "source": []
  }
 ],
 "metadata": {
  "kernelspec": {
   "display_name": "Python 3",
   "language": "python",
   "name": "python3"
  },
  "language_info": {
   "codemirror_mode": {
    "name": "ipython",
    "version": 3
   },
   "file_extension": ".py",
   "mimetype": "text/x-python",
   "name": "python",
   "nbconvert_exporter": "python",
   "pygments_lexer": "ipython3",
   "version": "3.6.9"
  }
 },
 "nbformat": 4,
 "nbformat_minor": 2
}
