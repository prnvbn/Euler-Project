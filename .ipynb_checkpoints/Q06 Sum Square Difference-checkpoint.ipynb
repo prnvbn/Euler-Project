{
 "cells": [
  {
   "cell_type": "code",
   "execution_count": 1,
   "metadata": {},
   "outputs": [],
   "source": [
    "# The sum of the squares of the first ten natural numbers is,\n",
    "# 1^2+2^2+...+10^2=385\n",
    "\n",
    "# The square of the sum of the first ten natural numbers is,\n",
    "# (1+2+...+10)^2=55^2=3025\n",
    "\n",
    "# Hence the difference between the sum of the squares of the first ten natural numbers and the square of the \n",
    "# sum is 3025−385=2640.\n",
    "\n",
    "# Find the difference between the sum of the squares of the first one hundred natural numbers and the square of \n",
    "# the sum."
   ]
  },
  {
   "cell_type": "code",
   "execution_count": null,
   "metadata": {},
   "outputs": [],
   "source": [
    "def sum_square_diff(n):\n",
    "    "
   ]
  }
 ],
 "metadata": {
  "kernelspec": {
   "display_name": "Python 3",
   "language": "python",
   "name": "python3"
  },
  "language_info": {
   "codemirror_mode": {
    "name": "ipython",
    "version": 3
   },
   "file_extension": ".py",
   "mimetype": "text/x-python",
   "name": "python",
   "nbconvert_exporter": "python",
   "pygments_lexer": "ipython3",
   "version": "3.6.9"
  }
 },
 "nbformat": 4,
 "nbformat_minor": 2
}
