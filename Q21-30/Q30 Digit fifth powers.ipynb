{
 "cells": [
  {
   "cell_type": "code",
   "execution_count": 1,
   "metadata": {},
   "outputs": [],
   "source": [
    "# Surprisingly there are only three numbers that can be written as the sum of fourth powers of their digits:\n",
    "\n",
    "# 1634 = 1^4 + 6^4 + 3^4 + 4^4\n",
    "# 8208 = 8^4 + 2^4 + 0^4 + 8^4\n",
    "# 9474 = 9^4 + 4^4 + 7^4 + 4^4\n",
    "# As 1 = 1^4 is not a sum it is not included.\n",
    "\n",
    "# The sum of these numbers is 1634 + 8208 + 9474 = 19316.\n",
    "\n",
    "# Find the sum of all the numbers that can be written as the sum of fifth powers of their digits."
   ]
  },
  {
   "cell_type": "code",
   "execution_count": 8,
   "metadata": {},
   "outputs": [],
   "source": [
    "# PRE: n < 33 \n",
    "def solution(n):    \n",
    "    # upper bound works for n < 33\n",
    "    ub = (n + 1) * 9 ** n\n",
    "    nos = [i for i in range(10, ub) if i == sum(int(d) ** n for d in str(i))]\n",
    "    return nos, sum(nos)    \n",
    "    "
   ]
  },
  {
   "cell_type": "code",
   "execution_count": 9,
   "metadata": {},
   "outputs": [
    {
     "data": {
      "text/plain": [
       "([1634, 8208, 9474], 19316)"
      ]
     },
     "execution_count": 9,
     "metadata": {},
     "output_type": "execute_result"
    }
   ],
   "source": [
    "solution(4)"
   ]
  },
  {
   "cell_type": "code",
   "execution_count": 10,
   "metadata": {},
   "outputs": [
    {
     "data": {
      "text/plain": [
       "([4150, 4151, 54748, 92727, 93084, 194979], 443839)"
      ]
     },
     "execution_count": 10,
     "metadata": {},
     "output_type": "execute_result"
    }
   ],
   "source": [
    "solution(5)"
   ]
  },
  {
   "cell_type": "code",
   "execution_count": null,
   "metadata": {},
   "outputs": [],
   "source": []
  }
 ],
 "metadata": {
  "kernelspec": {
   "display_name": "Python 3",
   "language": "python",
   "name": "python3"
  },
  "language_info": {
   "codemirror_mode": {
    "name": "ipython",
    "version": 3
   },
   "file_extension": ".py",
   "mimetype": "text/x-python",
   "name": "python",
   "nbconvert_exporter": "python",
   "pygments_lexer": "ipython3",
   "version": "3.6.9"
  }
 },
 "nbformat": 4,
 "nbformat_minor": 2
}
