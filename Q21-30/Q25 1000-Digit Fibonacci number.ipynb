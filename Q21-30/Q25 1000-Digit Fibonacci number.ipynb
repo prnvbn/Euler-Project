{
 "cells": [
  {
   "cell_type": "code",
   "execution_count": 1,
   "metadata": {},
   "outputs": [],
   "source": [
    "# The Fibonacci sequence is defined by the recurrence relation:\n",
    "\n",
    "# Fn = Fn−1 + Fn−2, where F1 = 1 and F2 = 1.\n",
    "# Hence the first 12 terms will be:\n",
    "\n",
    "# F1 = 1\n",
    "# F2 = 1\n",
    "# F3 = 2\n",
    "# F4 = 3\n",
    "# F5 = 5\n",
    "# F6 = 8\n",
    "# F7 = 13\n",
    "# F8 = 21\n",
    "# F9 = 34\n",
    "# F10 = 55\n",
    "# F11 = 89\n",
    "# F12 = 144\n",
    "# The 12th term, F12, is the first term to contain three digits.\n",
    "\n",
    "# What is the index of the first term in the Fibonacci sequence to contain 1000 digits?"
   ]
  },
  {
   "cell_type": "code",
   "execution_count": 7,
   "metadata": {},
   "outputs": [],
   "source": [
    "def n_digit_fib(n):\n",
    "    \n",
    "    prev_fib = 1\n",
    "    curr_fib = 1\n",
    "    i = 2\n",
    "    \n",
    "    while len(str(curr_fib)) < n:\n",
    "        prev_fib, curr_fib = curr_fib, curr_fib + prev_fib\n",
    "        i = i + 1\n",
    "        \n",
    "    return i"
   ]
  },
  {
   "cell_type": "code",
   "execution_count": 8,
   "metadata": {},
   "outputs": [
    {
     "data": {
      "text/plain": [
       "12"
      ]
     },
     "execution_count": 8,
     "metadata": {},
     "output_type": "execute_result"
    }
   ],
   "source": [
    "n_digit_fib(3)"
   ]
  },
  {
   "cell_type": "code",
   "execution_count": 9,
   "metadata": {},
   "outputs": [
    {
     "data": {
      "text/plain": [
       "4782"
      ]
     },
     "execution_count": 9,
     "metadata": {},
     "output_type": "execute_result"
    }
   ],
   "source": [
    "n_digit_fib(1000)"
   ]
  },
  {
   "cell_type": "code",
   "execution_count": null,
   "metadata": {},
   "outputs": [],
   "source": []
  }
 ],
 "metadata": {
  "kernelspec": {
   "display_name": "Python 3",
   "language": "python",
   "name": "python3"
  },
  "language_info": {
   "codemirror_mode": {
    "name": "ipython",
    "version": 3
   },
   "file_extension": ".py",
   "mimetype": "text/x-python",
   "name": "python",
   "nbconvert_exporter": "python",
   "pygments_lexer": "ipython3",
   "version": "3.6.9"
  }
 },
 "nbformat": 4,
 "nbformat_minor": 2
}
