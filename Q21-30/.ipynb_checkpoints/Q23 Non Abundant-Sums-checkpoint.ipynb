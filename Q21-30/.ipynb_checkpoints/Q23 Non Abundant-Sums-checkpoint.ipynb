{
 "cells": [
  {
   "cell_type": "code",
   "execution_count": 1,
   "metadata": {},
   "outputs": [],
   "source": [
    "# A perfect number is a number for which the sum of its proper divisors is exactly equal to the number.\n",
    "# For example, the sum of the proper divisors of 28 would be 1 + 2 + 4 + 7 + 14 = 28, \n",
    "# which means that 28 is a perfect number.\n",
    "\n",
    "# A number n is called deficient if the sum of its proper divisors is less than n\n",
    "# and it is called abundant if this sum exceeds n.\n",
    "\n",
    "# As 12 is the smallest abundant number, 1 + 2 + 3 + 4 + 6 = 16,\n",
    "# the smallest number that can be written as the sum of two abundant numbers is 24.\n",
    "# By mathematical analysis, it can be shown that all integers greater than 28123 \n",
    "# can be written as the sum of two abundant numbers. \n",
    "# However, this upper limit cannot be reduced any further by analysis even though \n",
    "# it is known that the greatest number that cannot be expressed as the sum of two abundant numbers\n",
    "# is less than this limit.\n",
    "\n",
    "# Find the sum of all the positive integers which cannot be written as the sum of two abundant numbers.\n",
    "from numpy import sqrt"
   ]
  },
  {
   "cell_type": "code",
   "execution_count": 2,
   "metadata": {},
   "outputs": [],
   "source": [
    "def sum_of_divisors(n):\n",
    "    s = 1\n",
    "    for i in range(2, int(sqrt(n))+1):\n",
    "        if(n%i == 0):\n",
    "            s = s + i\n",
    "            if(i != n//i):\n",
    "                s = s + n//i\n",
    "    return s"
   ]
  },
  {
   "cell_type": "code",
   "execution_count": 3,
   "metadata": {},
   "outputs": [],
   "source": [
    "def get_abundant_nos():\n",
    "    a_nos = []\n",
    "    \n",
    "    for i in range(1, 28124):\n",
    "        if(sum_of_divisors(i) > i):\n",
    "            a_nos.append(i)\n",
    "    return a_nos    "
   ]
  },
  {
   "cell_type": "code",
   "execution_count": 4,
   "metadata": {},
   "outputs": [],
   "source": [
    "ab_sum_bool = [False for i in range(0,28124)]\n",
    "ab_nos = get_abundant_nos()\n",
    "\n",
    "for i in range(0, len(ab_nos)):\n",
    "    for j in range(0, len(ab_nos)):\n",
    "        if(ab_nos[i]+ab_nos[j] > 28123):\n",
    "            break\n",
    "        ab_sum_bool[ab_nos[i]+ab_nos[j]] = True    \n"
   ]
  },
  {
   "cell_type": "code",
   "execution_count": 5,
   "metadata": {},
   "outputs": [],
   "source": [
    "s = 0\n",
    "for i in range(0, len(ab_sum_bool)):\n",
    "    if(not ab_sum_bool[i]):\n",
    "        s = s + i"
   ]
  },
  {
   "cell_type": "code",
   "execution_count": 6,
   "metadata": {},
   "outputs": [
    {
     "data": {
      "text/plain": [
       "4179871"
      ]
     },
     "execution_count": 6,
     "metadata": {},
     "output_type": "execute_result"
    }
   ],
   "source": [
    "s"
   ]
  }
 ],
 "metadata": {
  "kernelspec": {
   "display_name": "Python 3",
   "language": "python",
   "name": "python3"
  },
  "language_info": {
   "codemirror_mode": {
    "name": "ipython",
    "version": 3
   },
   "file_extension": ".py",
   "mimetype": "text/x-python",
   "name": "python",
   "nbconvert_exporter": "python",
   "pygments_lexer": "ipython3",
   "version": "3.6.9"
  }
 },
 "nbformat": 4,
 "nbformat_minor": 2
}
