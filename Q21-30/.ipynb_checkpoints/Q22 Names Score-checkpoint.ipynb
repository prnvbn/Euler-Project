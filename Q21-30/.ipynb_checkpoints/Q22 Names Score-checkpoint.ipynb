{
 "cells": [
  {
   "cell_type": "code",
   "execution_count": 1,
   "metadata": {},
   "outputs": [],
   "source": [
    "# Using names.txt (right click and 'Save Link/Target As...'), a 46K text file \n",
    "# containing over five-thousand first names, begin by sorting it into alphabetical order.\n",
    "# Then working out the alphabetical value for each name, multiply this value by its alphabetical position in \n",
    "# the list to obtain a name score.\n",
    "\n",
    "# For example, when the list is sorted into alphabetical order, COLIN, \n",
    "# which is worth 3 + 15 + 12 + 9 + 14 = 53, is the 938th name in the list. \n",
    "# So, COLIN would obtain a score of 938 × 53 = 49714.\n",
    "\n",
    "# What is the total of all the name scores in the file?\n",
    "from functools import reduce"
   ]
  },
  {
   "cell_type": "code",
   "execution_count": 2,
   "metadata": {},
   "outputs": [],
   "source": [
    "def read_file(filename):\n",
    "    names = []\n",
    "    with open(filename, 'r') as f:\n",
    "        names = f.read().split(',')\n",
    "    names = list(map(lambda x: x[1:-1], names))\n",
    "    return sorted(names)    "
   ]
  },
  {
   "cell_type": "code",
   "execution_count": 23,
   "metadata": {},
   "outputs": [],
   "source": [
    "def get_score(filename):\n",
    "    names = read_file(filename)\n",
    "    total = 0\n",
    "    for i in range(0, len(names)):\n",
    "        name = names[i]\n",
    "        total = total + sum(map(lambda x : ord(x) - 64, name)) * (i+1)\n",
    "    return total    "
   ]
  },
  {
   "cell_type": "code",
   "execution_count": 24,
   "metadata": {},
   "outputs": [
    {
     "data": {
      "text/plain": [
       "871198282"
      ]
     },
     "execution_count": 24,
     "metadata": {},
     "output_type": "execute_result"
    }
   ],
   "source": [
    "filename = 'p022_names.txt'\n",
    "get_score(filename)"
   ]
  }
 ],
 "metadata": {
  "kernelspec": {
   "display_name": "Python 3",
   "language": "python",
   "name": "python3"
  },
  "language_info": {
   "codemirror_mode": {
    "name": "ipython",
    "version": 3
   },
   "file_extension": ".py",
   "mimetype": "text/x-python",
   "name": "python",
   "nbconvert_exporter": "python",
   "pygments_lexer": "ipython3",
   "version": "3.6.9"
  }
 },
 "nbformat": 4,
 "nbformat_minor": 2
}
