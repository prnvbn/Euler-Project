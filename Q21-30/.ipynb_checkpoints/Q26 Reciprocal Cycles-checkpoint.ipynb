{
 "cells": [
  {
   "cell_type": "code",
   "execution_count": 1,
   "metadata": {},
   "outputs": [],
   "source": [
    "# A unit fraction contains 1 in the numerator. \n",
    "# The decimal representation of the unit fractions with denominators 2 to 10 are given:\n",
    "\n",
    "# 1/2\t= \t0.5\n",
    "# 1/3\t= \t0.(3)\n",
    "# 1/4\t= \t0.25\n",
    "# 1/5\t= \t0.2\n",
    "# 1/6\t= \t0.1(6)\n",
    "# 1/7\t= \t0.(142857)\n",
    "# 1/8\t= \t0.125\n",
    "# 1/9\t= \t0.(1)\n",
    "# 1/10\t= \t0.1\n",
    "# Where 0.1(6) means 0.166666..., and has a 1-digit recurring cycle. \n",
    "# It can be seen that 1/7 has a 6-digit recurring cycle.\n",
    "\n",
    "# Find the value of d < 1000 for which 1/d contains the \n",
    "# longest recurring cycle in its decimal fraction part."
   ]
  },
  {
   "cell_type": "code",
   "execution_count": 2,
   "metadata": {},
   "outputs": [],
   "source": [
    "# Fermat’s little theorem that says: \n",
    "# 1/d has a cycle of n digits if 10^k − 1 mod p = 0 for prime p, p is a full reptend prime.\n",
    "# So we need to find the largest prime in the range\n",
    "\n",
    "# for a no to be a reptend prime it has to meet the following conditions \n",
    "# (10^k - 1 mod p) for all k in [0,p-1] is unique and present only once\n"
   ]
  },
  {
   "cell_type": "code",
   "execution_count": 3,
   "metadata": {},
   "outputs": [],
   "source": [
    "def get_primes_sieve(n):\n",
    "    prime_bool = [True for i in range(n+1)]\n",
    "    \n",
    "    prime_bool[0] = False\n",
    "    prime_bool[1] = False\n",
    "    \n",
    "    p = 2 # first prime no\n",
    "    \n",
    "    while p*p < n: # because if n is composite, then its highest factor is n^(1/2)\n",
    "        if (prime_bool[p]):\n",
    "            for i in range(p*p, n+1, p):\n",
    "                prime_bool[i] = False\n",
    "        p = p+1\n",
    "        \n",
    "    primes = []    \n",
    "    for i in range(n+1):\n",
    "        if(prime_bool[i]):\n",
    "            primes.append(i)\n",
    "    \n",
    "    return primes"
   ]
  },
  {
   "cell_type": "code",
   "execution_count": 4,
   "metadata": {},
   "outputs": [],
   "source": [
    "def longest_reciprocal_cycle(n):\n",
    "    primes = get_primes_sieve(n)\n",
    "    reptends = []\n",
    "    \n",
    "    for p in primes:\n",
    "        mod_vals = [((10**k)%p) for k in range(1,p)]\n",
    "        valid = True\n",
    "        for i in mod_vals:\n",
    "            if mod_vals.count(i) == 1:\n",
    "                continue\n",
    "            else:\n",
    "                valid = False\n",
    "                break\n",
    "        reptends.append(p) if 1 in mod_vals and len(mod_vals) == p-1 and valid else False\n",
    "    return reptends[-1]\n",
    "        "
   ]
  },
  {
   "cell_type": "code",
   "execution_count": 5,
   "metadata": {},
   "outputs": [
    {
     "data": {
      "text/plain": [
       "7"
      ]
     },
     "execution_count": 5,
     "metadata": {},
     "output_type": "execute_result"
    }
   ],
   "source": [
    "longest_reciprocal_cycle(10)"
   ]
  },
  {
   "cell_type": "code",
   "execution_count": 6,
   "metadata": {},
   "outputs": [
    {
     "data": {
      "text/plain": [
       "983"
      ]
     },
     "execution_count": 6,
     "metadata": {},
     "output_type": "execute_result"
    }
   ],
   "source": [
    "longest_reciprocal_cycle(1000)"
   ]
  },
  {
   "cell_type": "code",
   "execution_count": null,
   "metadata": {},
   "outputs": [],
   "source": []
  }
 ],
 "metadata": {
  "kernelspec": {
   "display_name": "Python 3",
   "language": "python",
   "name": "python3"
  },
  "language_info": {
   "codemirror_mode": {
    "name": "ipython",
    "version": 3
   },
   "file_extension": ".py",
   "mimetype": "text/x-python",
   "name": "python",
   "nbconvert_exporter": "python",
   "pygments_lexer": "ipython3",
   "version": "3.6.9"
  }
 },
 "nbformat": 4,
 "nbformat_minor": 2
}
