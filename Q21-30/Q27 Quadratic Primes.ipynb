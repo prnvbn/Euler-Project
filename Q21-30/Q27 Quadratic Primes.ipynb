{
 "cells": [
  {
   "cell_type": "code",
   "execution_count": 2,
   "metadata": {},
   "outputs": [],
   "source": [
    "# # Euler discovered the remarkable quadratic formula:\n",
    "\n",
    "# n^2 + n + 41\n",
    "# It turns out that the formula will produce 40 primes for the \n",
    "# consecutive integer values 0≤n≤39. \n",
    "# However, when n=40,40^2 + 40 + 41 = 40(40+1)+41 is divisible by \n",
    "# 41, and certainly when n=41,412+41+41 is clearly divisible by 41.\n",
    "\n",
    "# The incredible formula n^2−79n+1601 was discovered, \n",
    "# which produces 80 primes for the consecutive values 0≤n≤79. \n",
    "# The product of the coefficients, −79 and 1601, is −126479.\n",
    "\n",
    "# Considering quadratics of the form:\n",
    "\n",
    "# n^2+an+b, where |a|<1000 and |b|≤1000\n",
    "\n",
    "# where |n| is the modulus/absolute value of n\n",
    "# e.g. |11|=11 and |−4|=4\n",
    "# Find the product of the coefficients, a and b, \n",
    "# for the quadratic expression that produces \n",
    "# the maximum number of primes for consecutive values of n, \n",
    "# starting with n=0."
   ]
  },
  {
   "cell_type": "code",
   "execution_count": null,
   "metadata": {},
   "outputs": [],
   "source": []
  }
 ],
 "metadata": {
  "kernelspec": {
   "display_name": "Python 3",
   "language": "python",
   "name": "python3"
  },
  "language_info": {
   "codemirror_mode": {
    "name": "ipython",
    "version": 3
   },
   "file_extension": ".py",
   "mimetype": "text/x-python",
   "name": "python",
   "nbconvert_exporter": "python",
   "pygments_lexer": "ipython3",
   "version": "3.6.9"
  }
 },
 "nbformat": 4,
 "nbformat_minor": 2
}
