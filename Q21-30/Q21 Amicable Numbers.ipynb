{
 "cells": [
  {
   "cell_type": "code",
   "execution_count": 11,
   "metadata": {},
   "outputs": [],
   "source": [
    "# Let d(n) be defined as the sum of proper divisors of n (numbers less than n which divide evenly into n).\n",
    "# If d(a) = b and d(b) = a, where a ≠ b, then a and b are an amicable pair and each of a and b are called\n",
    "# amicable numbers.\n",
    "\n",
    "# For example, the proper divisors of 220 are 1, 2, 4, 5, 10, 11, 20, 22, 44, 55 and 110; \n",
    "# therefore d(220) = 284. The proper divisors of 284 are 1, 2, 4, 71 and 142; so d(284) = 220.\n",
    "\n",
    "# Evaluate the sum of all the amicable numbers under 10000.\n",
    "from numpy import sqrt "
   ]
  },
  {
   "cell_type": "code",
   "execution_count": 12,
   "metadata": {},
   "outputs": [],
   "source": [
    "def sum_of_divisors(n):\n",
    "    s = 1\n",
    "    for i in range(2, int(sqrt(n)) +1):\n",
    "        if(n%i == 0):\n",
    "            s = s + i\n",
    "            if(n//i != i):\n",
    "                s = s + n//i\n",
    "    return s"
   ]
  },
  {
   "cell_type": "code",
   "execution_count": 13,
   "metadata": {},
   "outputs": [],
   "source": [
    "def sum_of_amicable(n):\n",
    "    s = 0\n",
    "\n",
    "    for i in range(0,n):\n",
    "\n",
    "        temp_sum = sum_of_divisors(i)\n",
    "        if(i == sum_of_divisors(temp_sum) and temp_sum != i):\n",
    "            s = s + i \n",
    "    return s              "
   ]
  },
  {
   "cell_type": "code",
   "execution_count": 14,
   "metadata": {},
   "outputs": [
    {
     "data": {
      "text/plain": [
       "31626"
      ]
     },
     "execution_count": 14,
     "metadata": {},
     "output_type": "execute_result"
    }
   ],
   "source": [
    "sum_of_amicable(10_000)"
   ]
  }
 ],
 "metadata": {
  "kernelspec": {
   "display_name": "Python 3",
   "language": "python",
   "name": "python3"
  },
  "language_info": {
   "codemirror_mode": {
    "name": "ipython",
    "version": 3
   },
   "file_extension": ".py",
   "mimetype": "text/x-python",
   "name": "python",
   "nbconvert_exporter": "python",
   "pygments_lexer": "ipython3",
   "version": "3.6.9"
  }
 },
 "nbformat": 4,
 "nbformat_minor": 2
}
