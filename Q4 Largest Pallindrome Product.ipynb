{
 "cells": [
  {
   "cell_type": "code",
   "execution_count": 1,
   "metadata": {},
   "outputs": [],
   "source": [
    "# A palindromic number reads the same both ways. \n",
    "# The largest palindrome made from the product of two 2-digit numbers is \n",
    "# 9009 = 91 × 99.\n",
    "\n",
    "# Find the largest palindrome made from the product of two 3-digit numbers."
   ]
  },
  {
   "cell_type": "code",
   "execution_count": 54,
   "metadata": {},
   "outputs": [],
   "source": [
    "def is_pallindrome(n):\n",
    "    n = str (n)\n",
    "    for i in range(0, len(n)//2):\n",
    "        if(n[i] != n[ len(n) - i - 1]):\n",
    "            return False\n",
    "    return True    "
   ]
  },
  {
   "cell_type": "code",
   "execution_count": 81,
   "metadata": {},
   "outputs": [],
   "source": [
    "# got a bit carried away...\n",
    "def max_pall_prod_of_two_n_dig_nos(no_of_dig):\n",
    "    max_dig_no = 10 ** no_of_dig - 1\n",
    "    dec_factor = 10 ** (no_of_dig - 1)\n",
    "    l = []\n",
    "    for i in range(max_dig_no, 9*dec_factor, -1):\n",
    "        for j in range(max_dig_no,9* dec_factor,-1):\n",
    "            if(is_pallindrome(j*i)):\n",
    "                if(i >= dec_factor and j >= dec_factor):\n",
    "                    l.append((i, j))\n",
    "                    break\n",
    "    x,y = max(l)               \n",
    "    return x*y               "
   ]
  },
  {
   "cell_type": "code",
   "execution_count": 82,
   "metadata": {},
   "outputs": [
    {
     "data": {
      "text/plain": [
       "9009"
      ]
     },
     "execution_count": 82,
     "metadata": {},
     "output_type": "execute_result"
    }
   ],
   "source": [
    "max_pall_prod_of_two_n_dig_nos(2)"
   ]
  },
  {
   "cell_type": "code",
   "execution_count": 83,
   "metadata": {},
   "outputs": [
    {
     "data": {
      "text/plain": [
       "906609"
      ]
     },
     "execution_count": 83,
     "metadata": {},
     "output_type": "execute_result"
    }
   ],
   "source": [
    "max_pall_prod_of_two_n_dig_nos(3)"
   ]
  }
 ],
 "metadata": {
  "kernelspec": {
   "display_name": "Python 3",
   "language": "python",
   "name": "python3"
  },
  "language_info": {
   "codemirror_mode": {
    "name": "ipython",
    "version": 3
   },
   "file_extension": ".py",
   "mimetype": "text/x-python",
   "name": "python",
   "nbconvert_exporter": "python",
   "pygments_lexer": "ipython3",
   "version": "3.7.3"
  }
 },
 "nbformat": 4,
 "nbformat_minor": 2
}
